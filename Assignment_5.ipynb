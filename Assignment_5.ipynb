{
  "nbformat": 4,
  "nbformat_minor": 0,
  "metadata": {
    "colab": {
      "provenance": []
    },
    "kernelspec": {
      "name": "python3",
      "display_name": "Python 3"
    },
    "language_info": {
      "name": "python"
    }
  },
  "cells": [
    {
      "cell_type": "markdown",
      "source": [
        "Q1. What does an empty dictionary&#39;s code look like?\n",
        "\n",
        "Ans.In Python, an empty dictionary is represented by curly braces `{}`. Here's what it looks like:\n",
        "\n",
        "```python\n",
        "empty_dict = {}\n",
        "```\n",
        "\n",
        "This creates an empty dictionary named `empty_dict`."
      ],
      "metadata": {
        "id": "9C041TLDiMK6"
      }
    },
    {
      "cell_type": "markdown",
      "source": [
        "Q2. What is the value of a dictionary value with the key &#39;foo&#39; and the value 42?\n",
        "\n",
        "Ans.If a dictionary has a key `'foo'` with a corresponding value of `42`, the value of this dictionary entry would be `42`. Here's how it would look in Python:\n",
        "\n",
        "```python\n",
        "my_dict = {'foo': 42}\n",
        "value_of_foo = my_dict['foo']\n",
        "print(value_of_foo)  # Output will be 42\n",
        "```\n",
        "\n",
        "So, the value associated with the key `'foo'` in the dictionary is `42`."
      ],
      "metadata": {
        "id": "7XPQAzYLiXRe"
      }
    },
    {
      "cell_type": "markdown",
      "source": [
        "Q3. What is the most significant distinction between a dictionary and a list?\n",
        "\n",
        "Ans.The most significant distinction between a dictionary and a list is how they store and organize data:\n",
        "\n",
        "1. **Storage of Elements**:\n",
        "   - **List**: Lists store elements in a sequential order and are accessed by their index, which is an integer starting from 0.\n",
        "   - **Dictionary**: Dictionaries store elements as key-value pairs. Each element is accessed by its key rather than by its position in a sequence.\n",
        "\n",
        "2. **Ordering**:\n",
        "   - **List**: Lists maintain the order of elements as they are inserted. Elements are accessed in the same order they were added.\n",
        "   - **Dictionary**: Dictionaries do not guarantee any specific order of elements. The order of elements in a dictionary is not guaranteed to be the same as the order they were inserted.\n",
        "\n",
        "3. **Accessing Elements**:\n",
        "   - **List**: Elements in a list are accessed by their index. For example, `my_list[0]` accesses the first element of the list.\n",
        "   - **Dictionary**: Elements in a dictionary are accessed by their keys. For example, `my_dict['key']` accesses the value associated with the key `'key'`.\n",
        "\n",
        "4. **Mutability**:\n",
        "   - **List**: Lists are mutable, meaning you can change, add, or remove elements after the list is created.\n",
        "   - **Dictionary**: Dictionaries are also mutable; you can modify, add, or remove key-value pairs after the dictionary is created.\n",
        "\n",
        "5. **Duplication of Keys**:\n",
        "   - **List**: Lists allow duplicate elements. You can have multiple elements with the same value in a list.\n",
        "   - **Dictionary**: Dictionary keys must be unique. If you try to add a key-value pair with a key that already exists in the dictionary, it will overwrite the existing value rather than create a duplicate key.\n",
        "\n"
      ],
      "metadata": {
        "id": "pNy6tD82ijmB"
      }
    },
    {
      "cell_type": "markdown",
      "source": [
        "Q4. What happens if you try to access spam[&#39;foo&#39;] if spam is {&#39;bar&#39;: 100}?\n",
        "\n",
        "Ans.If you try to access `spam['foo']` where `spam` is `{ 'bar': 100 }`, it will result in a KeyError because there is no key `'foo'` in the dictionary `spam`.\n",
        "\n",
        "In Python, attempting to access a key that does not exist in a dictionary will raise a KeyError. This is because dictionaries require keys to access their associated values, and if the key you're trying to access does not exist in the dictionary, Python will raise an error."
      ],
      "metadata": {
        "id": "toyJtBVVixXf"
      }
    },
    {
      "cell_type": "markdown",
      "source": [
        "Q5. If a dictionary is stored in spam, what is the difference between the expressions &#39;cat&#39; in spam and\n",
        "&#39;cat&#39; in spam.keys()?\n",
        "\n",
        "Ans.In Python, `in` is used to check for membership in a collection such as a list, tuple, or dictionary. However, there's a subtle difference between `in spam` and `in spam.keys()` when applied to a dictionary `spam`.\n",
        "\n",
        "1. **'cat' in spam**:\n",
        "   - This expression checks whether the key `'cat'` is present in the dictionary `spam`. If `'cat'` is one of the keys in `spam`, it will return `True`; otherwise, it will return `False`.\n",
        "   - This operation checks for membership among the keys of the dictionary directly.\n",
        "\n",
        "2. **'cat' in spam.keys()**:\n",
        "   - This expression checks whether the key `'cat'` is present in the list of keys of the dictionary `spam`. When `spam.keys()` is called, it returns a view object containing all the keys in the dictionary `spam`.\n",
        "   - It is functionally equivalent to the first expression but explicitly converts the keys into a list-like object before performing the membership check.\n"
      ],
      "metadata": {
        "id": "9LXxz-tni_Fa"
      }
    },
    {
      "cell_type": "markdown",
      "source": [
        "Q6. If a dictionary is stored in spam, what is the difference between the expressions &#39;cat&#39; in spam and\n",
        "&#39;cat&#39; in spam.values()?\n",
        "\n",
        "Ans.The expressions `'cat' in spam` and `'cat' in spam.values()` differ in what they are checking for within the dictionary `spam`.\n",
        "\n",
        "1. **`'cat' in spam`**:\n",
        "   - This expression checks whether the key `'cat'` is present among the keys of the dictionary `spam`. If `'cat'` is one of the keys in `spam`, it will return `True`; otherwise, it will return `False`.\n",
        "   - It specifically checks for membership among the keys of the dictionary.\n",
        "\n",
        "2. **`'cat' in spam.values()`**:\n",
        "   - This expression checks whether the value `'cat'` is present among the values of the dictionary `spam`. If `'cat'` is one of the values in `spam`, it will return `True`; otherwise, it will return `False`.\n",
        "   - It specifically checks for membership among the values of the dictionary.\n"
      ],
      "metadata": {
        "id": "YUFzTDDFjNv3"
      }
    },
    {
      "cell_type": "markdown",
      "source": [
        "Q7. What is a shortcut for the following code?\n",
        "   \n",
        "   if &#39;color&#39; not in spam:\n",
        "\n",
        "spam[&#39;color&#39;] = &#39;black&#39;\n",
        "\n",
        "Ans.A shortcut for the given code can be achieved using the `dict.setdefault()` method. This method sets a default value if the key is not already in the dictionary. Here's how you can use it:\n",
        "\n",
        "```python\n",
        "spam.setdefault('color', 'black')\n",
        "```\n",
        "\n",
        "This line of code will set the value of `'color'` to `'black'` if `'color'` is not already a key in the `spam` dictionary. If `'color'` is already in `spam`, it will leave its value unchanged. This is more concise compared to an explicit `if` statement."
      ],
      "metadata": {
        "id": "qxk1nhxDjk4t"
      }
    },
    {
      "cell_type": "markdown",
      "source": [
        "Q8. How do you &quot;pretty print&quot; dictionary values using which module and function?\n",
        "\n",
        "Ans.To \"pretty print\" dictionary values in Python, you can use the `pprint` module and its `pprint()` function. The `pprint` module provides a `pprint()` function that is capable of printing data structures like dictionaries, lists, and tuples in a more human-readable format with indentation and line breaks. Here's how you can use it:\n",
        "\n",
        "```python\n",
        "import pprint\n",
        "\n",
        "my_dict = {'foo': 42, 'bar': {'baz': 'qux', 'quux': 'corge'}}\n",
        "pprint.pprint(my_dict)\n",
        "```\n",
        "\n",
        "This will print the dictionary `my_dict` in a more structured and readable format. The `pprint()` function is particularly useful when dealing with large or nested dictionaries."
      ],
      "metadata": {
        "id": "Zt6kIeM3jynJ"
      }
    }
  ]
}